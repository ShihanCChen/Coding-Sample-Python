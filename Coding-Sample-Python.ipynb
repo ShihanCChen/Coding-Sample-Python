{
 "cells": [
  {
   "cell_type": "code",
   "execution_count": 72,
   "id": "9f5f3a73-a51a-44c5-b637-23f153e80101",
   "metadata": {},
   "outputs": [
    {
     "name": "stdout",
     "output_type": "stream",
     "text": [
      "Requirement already satisfied: gdown in /opt/anaconda3/lib/python3.11/site-packages (5.2.0)\n",
      "Requirement already satisfied: beautifulsoup4 in /opt/anaconda3/lib/python3.11/site-packages (from gdown) (4.12.2)\n",
      "Requirement already satisfied: filelock in /opt/anaconda3/lib/python3.11/site-packages (from gdown) (3.13.1)\n",
      "Requirement already satisfied: requests[socks] in /opt/anaconda3/lib/python3.11/site-packages (from gdown) (2.31.0)\n",
      "Requirement already satisfied: tqdm in /opt/anaconda3/lib/python3.11/site-packages (from gdown) (4.65.0)\n",
      "Requirement already satisfied: soupsieve>1.2 in /opt/anaconda3/lib/python3.11/site-packages (from beautifulsoup4->gdown) (2.5)\n",
      "Requirement already satisfied: charset-normalizer<4,>=2 in /opt/anaconda3/lib/python3.11/site-packages (from requests[socks]->gdown) (2.0.4)\n",
      "Requirement already satisfied: idna<4,>=2.5 in /opt/anaconda3/lib/python3.11/site-packages (from requests[socks]->gdown) (3.4)\n",
      "Requirement already satisfied: urllib3<3,>=1.21.1 in /opt/anaconda3/lib/python3.11/site-packages (from requests[socks]->gdown) (2.0.7)\n",
      "Requirement already satisfied: certifi>=2017.4.17 in /opt/anaconda3/lib/python3.11/site-packages (from requests[socks]->gdown) (2024.2.2)\n",
      "Requirement already satisfied: PySocks!=1.5.7,>=1.5.6 in /opt/anaconda3/lib/python3.11/site-packages (from requests[socks]->gdown) (1.7.1)\n"
     ]
    }
   ],
   "source": [
    "!pip install gdown\n",
    "import pandas as pd\n",
    "import numpy as np\n",
    "import gdown\n",
    "\n",
    "file_path = '/Users/hanhan/Desktop/CancerComments20162019.csv'\n"
   ]
  },
  {
   "cell_type": "code",
   "execution_count": 73,
   "id": "1dec5a49-fdcf-4703-9808-6a04a8d937cf",
   "metadata": {},
   "outputs": [
    {
     "name": "stdout",
     "output_type": "stream",
     "text": [
      "CSV file loaded successfully.\n",
      "                                                body score_hidden archived  \\\n",
      "0  I have a similar story, though it's just begin...          NaN      NaN   \n",
      "1  Its been 4 months now, i have to admit the sho...          NaN      NaN   \n",
      "2                        How are you holding up man?          NaN      NaN   \n",
      "3                                          [removed]          NaN      NaN   \n",
      "4  My Dad in the beginning of all this had this c...          NaN      NaN   \n",
      "\n",
      "   name       author author_flair_text  downs  created_utc subreddit_id  \\\n",
      "0   NaN  ianburnsred               NaN    NaN   1478485722     t5_2qixx   \n",
      "1   NaN       reilmb               NaN    NaN   1478847947     t5_2qixx   \n",
      "2   NaN  Kansas_City               NaN    NaN   1478771424     t5_2qixx   \n",
      "3   NaN    [deleted]               NaN    NaN   1480404582     t5_2qixx   \n",
      "4   NaN    hawkman90               NaN    NaN   1481553729     t5_2qixx   \n",
      "\n",
      "     link_id  ... score  retrieved_on  controversiality  gilded       id  \\\n",
      "0  t3_4p06ou  ...     1    1481270087                 0       0  d9p0tea   \n",
      "1  t3_4s1fth  ...     1    1481390464                 0       0  d9vkczh   \n",
      "2  t3_4s1fth  ...     1    1481363984                 0       0  d9u52eh   \n",
      "3  t3_4tcjwz  ...     1    1481844602                 0       0  dak90yx   \n",
      "4  t3_4vsmre  ...     2    1483671155                 0       0  db3kaq2   \n",
      "\n",
      "  subreddit ups  distinguished author_flair_css_class  removal_reason  \n",
      "0    cancer NaN            NaN                    NaN             NaN  \n",
      "1    cancer NaN            NaN                    NaN             NaN  \n",
      "2    cancer NaN            NaN                    NaN             NaN  \n",
      "3    cancer NaN            NaN                    NaN             NaN  \n",
      "4    cancer NaN            NaN                    NaN             NaN  \n",
      "\n",
      "[5 rows x 21 columns]\n"
     ]
    },
    {
     "name": "stderr",
     "output_type": "stream",
     "text": [
      "/var/folders/1k/fnmmddrx2wj79wvs4csc884w0000gn/T/ipykernel_47999/2651121449.py:2: DtypeWarning: Columns (5,18) have mixed types. Specify dtype option on import or set low_memory=False.\n",
      "  df = pd.read_csv(file_path)\n"
     ]
    }
   ],
   "source": [
    "try:\n",
    "    df = pd.read_csv(file_path)\n",
    "    print(\"CSV file loaded successfully.\")\n",
    "    print(df.head())  # Display the first few rows of the DataFrame\n",
    "except FileNotFoundError:\n",
    "    print(f\"The file {file_path} does not exist.\")\n",
    "except PermissionError:\n",
    "    print(f\"Permission denied to read the file {file_path}.\")\n",
    "except pd.errors.EmptyDataError:\n",
    "    print(f\"The file {file_path} is empty.\")\n",
    "except pd.errors.ParserError:\n",
    "    print(f\"Error parsing the CSV file {file_path}.\")"
   ]
  },
  {
   "cell_type": "code",
   "execution_count": 74,
   "id": "29bbe9a9-3a29-49e4-9095-ade2077784b2",
   "metadata": {},
   "outputs": [
    {
     "name": "stdout",
     "output_type": "stream",
     "text": [
      "['body', 'score_hidden', 'archived', 'name', 'author', 'author_flair_text', 'downs', 'created_utc', 'subreddit_id', 'link_id', 'parent_id', 'score', 'retrieved_on', 'controversiality', 'gilded', 'id', 'subreddit', 'ups', 'distinguished', 'author_flair_css_class', 'removal_reason']\n",
      "                                                body score_hidden archived  \\\n",
      "0  I have a similar story, though it's just begin...          NaN      NaN   \n",
      "1  Its been 4 months now, i have to admit the sho...          NaN      NaN   \n",
      "2                        How are you holding up man?          NaN      NaN   \n",
      "3                                          [removed]          NaN      NaN   \n",
      "4  My Dad in the beginning of all this had this c...          NaN      NaN   \n",
      "\n",
      "   name       author author_flair_text  downs  created_utc subreddit_id  \\\n",
      "0   NaN  ianburnsred               NaN    NaN   1478485722     t5_2qixx   \n",
      "1   NaN       reilmb               NaN    NaN   1478847947     t5_2qixx   \n",
      "2   NaN  Kansas_City               NaN    NaN   1478771424     t5_2qixx   \n",
      "3   NaN    [deleted]               NaN    NaN   1480404582     t5_2qixx   \n",
      "4   NaN    hawkman90               NaN    NaN   1481553729     t5_2qixx   \n",
      "\n",
      "     link_id  ... retrieved_on  controversiality  gilded       id  subreddit  \\\n",
      "0  t3_4p06ou  ...   1481270087                 0       0  d9p0tea     cancer   \n",
      "1  t3_4s1fth  ...   1481390464                 0       0  d9vkczh     cancer   \n",
      "2  t3_4s1fth  ...   1481363984                 0       0  d9u52eh     cancer   \n",
      "3  t3_4tcjwz  ...   1481844602                 0       0  dak90yx     cancer   \n",
      "4  t3_4vsmre  ...   1483671155                 0       0  db3kaq2     cancer   \n",
      "\n",
      "  ups distinguished  author_flair_css_class removal_reason  num_comments  \n",
      "0 NaN           NaN                     NaN            NaN             7  \n",
      "1 NaN           NaN                     NaN            NaN             9  \n",
      "2 NaN           NaN                     NaN            NaN             9  \n",
      "3 NaN           NaN                     NaN            NaN             7  \n",
      "4 NaN           NaN                     NaN            NaN             7  \n",
      "\n",
      "[5 rows x 22 columns]\n",
      "int64\n"
     ]
    }
   ],
   "source": [
    "# Print the list of column headers\n",
    "column_headers = list(df.columns)\n",
    "print(column_headers)\n",
    "\n",
    "## Add num_comments to dataframe\n",
    "np.random.seed(12345678)\n",
    "\n",
    "num_rows = df.shape[0]\n",
    "random_numbers = np.random.poisson(lam=10, size=num_rows)\n",
    "random_numbers = np.clip(random_numbers, 0, 20)\n",
    "df['num_comments'] = random_numbers\n",
    "\n",
    "print(df.head())\n",
    "print(df['num_comments'].dtype)\n"
   ]
  },
  {
   "cell_type": "code",
   "execution_count": null,
   "id": "30f90d73-b6a1-4766-92c4-f31df6e24e22",
   "metadata": {},
   "outputs": [],
   "source": [
    "# Step 1. Data Cleaning"
   ]
  },
  {
   "cell_type": "code",
   "execution_count": 75,
   "id": "ded8b668-c468-479f-ba61-d4e8b6a84111",
   "metadata": {},
   "outputs": [],
   "source": [
    "# 1. Remove Replies to Comments\n",
    "\n",
    "df['first_two_chars'] = df['parent_id'].str[:2]\n",
    "# Remove rows where 'first_two_chars' is 't1'\n",
    "df = df[df['first_two_chars'] != 't1'].copy()\n",
    "# Drop the 'first_two_chars' columns\n",
    "df.drop(columns=['first_two_chars'], inplace=True)\n"
   ]
  },
  {
   "cell_type": "code",
   "execution_count": 76,
   "id": "7c8725d6-4683-47ae-9f66-7d1b55257600",
   "metadata": {},
   "outputs": [],
   "source": [
    "# 2. Drop Unnecessary Columns\n",
    "\n",
    "df.drop(columns=['author', 'name'], inplace=True)\n"
   ]
  },
  {
   "cell_type": "code",
   "execution_count": 77,
   "id": "136fd0a0-e0fe-4350-ab4f-5403dc28c35c",
   "metadata": {},
   "outputs": [
    {
     "name": "stderr",
     "output_type": "stream",
     "text": [
      "/var/folders/1k/fnmmddrx2wj79wvs4csc884w0000gn/T/ipykernel_47999/3136615487.py:32: SettingWithCopyWarning: \n",
      "A value is trying to be set on a copy of a slice from a DataFrame.\n",
      "Try using .loc[row_indexer,col_indexer] = value instead\n",
      "\n",
      "See the caveats in the documentation: https://pandas.pydata.org/pandas-docs/stable/user_guide/indexing.html#returning-a-view-versus-a-copy\n",
      "  df_filtered['body'] = df_filtered['body'].apply(remove_punctuation)\n"
     ]
    }
   ],
   "source": [
    "# 3. Deal with Missing and Placeholder Content\n",
    "\n",
    "# Replace '[deleted]' and '[removed]' with NaN in 'body' column\n",
    "df['body'].replace(['[deleted]', '[removed]'], np.nan, inplace=True)\n",
    "# Replace empty strings with NaN in 'body' column\n",
    "df['body'].replace('', np.nan, inplace=True)\n",
    "# Drop rows with NaN in 'body' column\n",
    "df.dropna(subset=['body'], inplace=True)\n",
    "\n",
    "# 4. Convert Text to Lowercase\n",
    "# Convert all text in the 'body' column to lowercase.\n",
    "\n",
    "df['body'] = df['body'].str.lower()\n",
    "\n",
    "# 5. Implement a Word Count Filter\n",
    "\n",
    "# Add a new column 'word_count'\n",
    "df['word_count'] = df['body'].str.split().apply(len)\n",
    "# Filter the dataset\n",
    "df_filtered = df[df['word_count'] >= 50]\n",
    "\n",
    "# 6. Remove Punctuation from Text\n",
    "\n",
    "import string\n",
    "# Define a function to remove punctuation and non-standard characters from text\n",
    "def remove_punctuation(text):\n",
    "    exclude = set(string.punctuation)\n",
    "    exclude.add('\\n')\n",
    "    return ''.join(ch for ch in text if ch not in exclude)\n",
    "\n",
    "# Apply the remove_punctuation function\n",
    "df_filtered['body'] = df_filtered['body'].apply(remove_punctuation)"
   ]
  },
  {
   "cell_type": "code",
   "execution_count": 45,
   "id": "44eff64b-91d2-46d3-a509-d64437b46d7b",
   "metadata": {},
   "outputs": [],
   "source": [
    "# Step 2. Create Useful Functions for Analysis"
   ]
  },
  {
   "cell_type": "code",
   "execution_count": 78,
   "id": "f4448657-e98c-4b84-988c-d6315dafe788",
   "metadata": {},
   "outputs": [
    {
     "name": "stdout",
     "output_type": "stream",
     "text": [
      "Requirement already satisfied: textblob in /opt/anaconda3/lib/python3.11/site-packages (0.18.0.post0)\n",
      "Requirement already satisfied: nltk>=3.8 in /opt/anaconda3/lib/python3.11/site-packages (from textblob) (3.8.1)\n",
      "Requirement already satisfied: click in /opt/anaconda3/lib/python3.11/site-packages (from nltk>=3.8->textblob) (8.1.7)\n",
      "Requirement already satisfied: joblib in /opt/anaconda3/lib/python3.11/site-packages (from nltk>=3.8->textblob) (1.2.0)\n",
      "Requirement already satisfied: regex>=2021.8.3 in /opt/anaconda3/lib/python3.11/site-packages (from nltk>=3.8->textblob) (2023.10.3)\n",
      "Requirement already satisfied: tqdm in /opt/anaconda3/lib/python3.11/site-packages (from nltk>=3.8->textblob) (4.65.0)\n",
      "Note: you may need to restart the kernel to use updated packages.\n"
     ]
    }
   ],
   "source": [
    "pip install textblob"
   ]
  },
  {
   "cell_type": "code",
   "execution_count": 79,
   "id": "66eb8d2a-29fc-425e-96f0-902b9d4ac183",
   "metadata": {},
   "outputs": [
    {
     "name": "stderr",
     "output_type": "stream",
     "text": [
      "[nltk_data] Downloading package punkt to /Users/hanhan/nltk_data...\n",
      "[nltk_data]   Package punkt is already up-to-date!\n",
      "[nltk_data] Downloading package stopwords to\n",
      "[nltk_data]     /Users/hanhan/nltk_data...\n",
      "[nltk_data]   Package stopwords is already up-to-date!\n",
      "[nltk_data] Downloading package averaged_perceptron_tagger to\n",
      "[nltk_data]     /Users/hanhan/nltk_data...\n",
      "[nltk_data]   Package averaged_perceptron_tagger is already up-to-\n",
      "[nltk_data]       date!\n",
      "[nltk_data] Downloading package stopwords to\n",
      "[nltk_data]     /Users/hanhan/nltk_data...\n",
      "[nltk_data]   Package stopwords is already up-to-date!\n"
     ]
    }
   ],
   "source": [
    "# 1. Counting Specific Words\n",
    "\n",
    "def count_specific_words(text, word_set):\n",
    "    \"\"\"\n",
    "    Counts occurrences of specific words in a given text.\n",
    "\n",
    "    Parameters:\n",
    "    - text: The text to analyze.\n",
    "    - word_set: A set of words to count within the text.\n",
    "\n",
    "    Returns:\n",
    "    - An integer representing the count of occurrences of the specified words.\n",
    "    \"\"\"\n",
    "\n",
    "    text_lower = text.lower()\n",
    "    word_set_lower = {word.lower() for word in word_set}\n",
    "    words = text_lower.split()\n",
    "    # Count the occurrences of words from the word_set\n",
    "    count = sum(1 for word in words if word in word_set_lower)\n",
    "\n",
    "    return count\n",
    "    ##We assume input text has no punctuation\n",
    "\n",
    "    # ex:\n",
    "    #text = \"this is a words sample\"\n",
    "    #word_set = {'sample', 'words'}\n",
    "    #count = count_specific_words(text, word_set)\n",
    "    #print(count)\n",
    "\n",
    "\n",
    "# 2. Identifying First-Person Narratives\n",
    "import re\n",
    "def detect_first_person(text):\n",
    "    \"\"\"\n",
    "    Identifies if a text contains first-person pronouns.\n",
    "\n",
    "    Parameters:\n",
    "    - text: The text to analyze.\n",
    "\n",
    "    Returns:\n",
    "    - A boolean indicating the presence of first-person pronouns in the text.\n",
    "    \"\"\"\n",
    "    # Define expressions of first-person pronouns\n",
    "    first_person_pattern = r'\\b(I|me|my|mine|myself)\\b'\n",
    "\n",
    "    if re.search(first_person_pattern, text, re.IGNORECASE):\n",
    "        return True\n",
    "    else:\n",
    "        return False\n",
    "\n",
    "\n",
    "# 3. Sentiment Analysis\n",
    "\n",
    "from textblob import TextBlob\n",
    "\n",
    "def analyze_sentiment(text):\n",
    "    \"\"\"\n",
    "    Analyzes the sentiment of a given text.\n",
    "\n",
    "    Parameters:\n",
    "    - text: The text to analyze.\n",
    "\n",
    "    Returns:\n",
    "    - A string indicating the sentiment of the text ('positive', 'negative', 'neutral').\n",
    "    \"\"\"\n",
    "\n",
    "    blob = TextBlob(text)\n",
    "    # Get the sentiment polarity (-1 to 1)\n",
    "    polarity = blob.sentiment.polarity\n",
    "    # Determine sentiment based on polarity\n",
    "    if polarity > 0:\n",
    "        return 'positive'\n",
    "    elif polarity < 0:\n",
    "        return 'negative'\n",
    "    else:\n",
    "        return 'neutral'\n",
    "\n",
    "#ex:\n",
    "#analyze_sentiment(df['body'][0])\n",
    "\n",
    "\n",
    "# 4. Keyword Extraction\n",
    "\n",
    "import nltk\n",
    "from nltk.tokenize import word_tokenize\n",
    "from nltk.corpus import stopwords\n",
    "from nltk import pos_tag\n",
    "from collections import Counter\n",
    "\n",
    "nltk.download('punkt')\n",
    "nltk.download('stopwords')\n",
    "nltk.download('averaged_perceptron_tagger')\n",
    "\n",
    "def extract_keywords(text):\n",
    "    \"\"\"\n",
    "    Extracts key terms or phrases from a given text.\n",
    "\n",
    "    Parameters:\n",
    "    - text: The text to analyze.\n",
    "\n",
    "    Returns:\n",
    "    - A list of key terms or phrases identified within the text.\n",
    "    \"\"\"\n",
    "\n",
    "    words = word_tokenize(text)\n",
    "    # Remove stopwords and non-alphabetic words\n",
    "    stop_words = set(stopwords.words('english'))\n",
    "    filtered_words = [word.lower() for word in words if word.lower() not in stop_words and word.isalpha()]\n",
    "    # Perform tagging\n",
    "    tagged_words = pos_tag(filtered_words)\n",
    "    # Extract keywords\n",
    "    keywords = [word for word, tag in tagged_words if tag.startswith('N') or tag.startswith('J')]\n",
    "\n",
    "    return keywords\n",
    "\n",
    "\n",
    "\n",
    "# 5. Removing stop words\n",
    "\n",
    "import nltk\n",
    "from nltk.corpus import stopwords\n",
    "nltk.download('stopwords')\n",
    "\n",
    "# English stop words\n",
    "stop_words = set(stopwords.words('english'))\n",
    "\n",
    "def remove_stopwords(text, stopwords):\n",
    "    \"\"\"\n",
    "    Removes stop words from a given text.\n",
    "\n",
    "    Parameters:\n",
    "    - text: The text to be processed.\n",
    "    - stopwords: A set or list of stop words to be removed from the text.\n",
    "\n",
    "    Returns:\n",
    "    - A string with stop words removed. The function splits the input text into individual words, filters out any words that are in the stopwords set, and then rejoins the remaining words into a single string.\n",
    "    \"\"\"\n",
    "    # Tokenize the input text into words\n",
    "    words = text.split()\n",
    "    # Remove stop words\n",
    "    filtered_words = [word for word in words if word.lower() not in stopwords]\n",
    "    # Join the filtered words back into a single string\n",
    "    filtered_text = ' '.join(filtered_words)\n",
    "\n",
    "    return filtered_text\n"
   ]
  },
  {
   "cell_type": "code",
   "execution_count": null,
   "id": "7ac54ac5-9f03-4cf8-9358-90e7c50fc4fb",
   "metadata": {},
   "outputs": [],
   "source": [
    "# Step 3. Creating Descriptives of the Data"
   ]
  },
  {
   "cell_type": "code",
   "execution_count": 80,
   "id": "96eb9b40-a654-491d-be15-e61e424e655a",
   "metadata": {},
   "outputs": [
    {
     "name": "stderr",
     "output_type": "stream",
     "text": [
      "/var/folders/1k/fnmmddrx2wj79wvs4csc884w0000gn/T/ipykernel_47999/3169060734.py:8: SettingWithCopyWarning: \n",
      "A value is trying to be set on a copy of a slice from a DataFrame.\n",
      "Try using .loc[row_indexer,col_indexer] = value instead\n",
      "\n",
      "See the caveats in the documentation: https://pandas.pydata.org/pandas-docs/stable/user_guide/indexing.html#returning-a-view-versus-a-copy\n",
      "  df_filtered['cancer_count'] = df_filtered['body'].apply(lambda x: count_specific_words(x, word_set))\n",
      "/var/folders/1k/fnmmddrx2wj79wvs4csc884w0000gn/T/ipykernel_47999/3169060734.py:10: SettingWithCopyWarning: \n",
      "A value is trying to be set on a copy of a slice from a DataFrame.\n",
      "Try using .loc[row_indexer,col_indexer] = value instead\n",
      "\n",
      "See the caveats in the documentation: https://pandas.pydata.org/pandas-docs/stable/user_guide/indexing.html#returning-a-view-versus-a-copy\n",
      "  df_filtered[f'{word}_count'] = df_filtered['body'].apply(lambda x: 1 if word in x.lower() else 0)\n",
      "/var/folders/1k/fnmmddrx2wj79wvs4csc884w0000gn/T/ipykernel_47999/3169060734.py:10: SettingWithCopyWarning: \n",
      "A value is trying to be set on a copy of a slice from a DataFrame.\n",
      "Try using .loc[row_indexer,col_indexer] = value instead\n",
      "\n",
      "See the caveats in the documentation: https://pandas.pydata.org/pandas-docs/stable/user_guide/indexing.html#returning-a-view-versus-a-copy\n",
      "  df_filtered[f'{word}_count'] = df_filtered['body'].apply(lambda x: 1 if word in x.lower() else 0)\n",
      "/var/folders/1k/fnmmddrx2wj79wvs4csc884w0000gn/T/ipykernel_47999/3169060734.py:10: SettingWithCopyWarning: \n",
      "A value is trying to be set on a copy of a slice from a DataFrame.\n",
      "Try using .loc[row_indexer,col_indexer] = value instead\n",
      "\n",
      "See the caveats in the documentation: https://pandas.pydata.org/pandas-docs/stable/user_guide/indexing.html#returning-a-view-versus-a-copy\n",
      "  df_filtered[f'{word}_count'] = df_filtered['body'].apply(lambda x: 1 if word in x.lower() else 0)\n",
      "/var/folders/1k/fnmmddrx2wj79wvs4csc884w0000gn/T/ipykernel_47999/3169060734.py:10: SettingWithCopyWarning: \n",
      "A value is trying to be set on a copy of a slice from a DataFrame.\n",
      "Try using .loc[row_indexer,col_indexer] = value instead\n",
      "\n",
      "See the caveats in the documentation: https://pandas.pydata.org/pandas-docs/stable/user_guide/indexing.html#returning-a-view-versus-a-copy\n",
      "  df_filtered[f'{word}_count'] = df_filtered['body'].apply(lambda x: 1 if word in x.lower() else 0)\n"
     ]
    },
    {
     "name": "stdout",
     "output_type": "stream",
     "text": [
      "Total occurrences of 'radiation' across all comments: 2349\n",
      "Total occurrences of 'treatment' across all comments: 7079\n",
      "Total occurrences of 'survivor' across all comments: 703\n",
      "Total occurrences of 'chemotherapy' across all comments: 753\n",
      "Total occurrences of 'cancer' across all comments: 13992\n",
      "The percentage of first person comments is: 89.70%\n"
     ]
    },
    {
     "name": "stderr",
     "output_type": "stream",
     "text": [
      "/var/folders/1k/fnmmddrx2wj79wvs4csc884w0000gn/T/ipykernel_47999/3169060734.py:22: SettingWithCopyWarning: \n",
      "A value is trying to be set on a copy of a slice from a DataFrame.\n",
      "Try using .loc[row_indexer,col_indexer] = value instead\n",
      "\n",
      "See the caveats in the documentation: https://pandas.pydata.org/pandas-docs/stable/user_guide/indexing.html#returning-a-view-versus-a-copy\n",
      "  df_filtered['first_person'] = df_filtered['body'].apply(detect_first_person)\n",
      "/var/folders/1k/fnmmddrx2wj79wvs4csc884w0000gn/T/ipykernel_47999/3169060734.py:32: SettingWithCopyWarning: \n",
      "A value is trying to be set on a copy of a slice from a DataFrame.\n",
      "Try using .loc[row_indexer,col_indexer] = value instead\n",
      "\n",
      "See the caveats in the documentation: https://pandas.pydata.org/pandas-docs/stable/user_guide/indexing.html#returning-a-view-versus-a-copy\n",
      "  df_filtered['sentiment'] = df_filtered['body'].apply(analyze_sentiment)\n"
     ]
    },
    {
     "data": {
      "text/plain": [
       "<Axes: >"
      ]
     },
     "execution_count": 80,
     "metadata": {},
     "output_type": "execute_result"
    },
    {
     "data": {
      "image/png": "[encoded data removed]",
      "text/plain": [
       "<Figure size 640x480 with 1 Axes>"
      ]
     },
     "metadata": {},
     "output_type": "display_data"
    }
   ],
   "source": [
    "# 1. Frequency of Specific Words Related to Cancer\n",
    "# Generate a count of how many times certain cancer-related words appear across all comments.\n",
    "\n",
    "word_set = {\"cancer\", \"treatment\", \"chemotherapy\", \"radiation\", \"survivor\"}\n",
    "\n",
    "# Print a total count for each word\n",
    "\n",
    "df_filtered['cancer_count'] = df_filtered['body'].apply(lambda x: count_specific_words(x, word_set))\n",
    "for word in word_set:\n",
    "    df_filtered[f'{word}_count'] = df_filtered['body'].apply(lambda x: 1 if word in x.lower() else 0)\n",
    "\n",
    "# Print the total count for each word in word_set\n",
    "for word in word_set:\n",
    "    total_count = df_filtered[f'{word}_count'].sum()\n",
    "    print(f\"Total occurrences of '{word}' across all comments: {total_count}\")\n",
    "\n",
    "# 2. Proportion of First-Person Narratives\n",
    "# Determine what percentage of the comments are written in the first person,\n",
    "# suggesting personal experiences or stories related to cancer.\n",
    "\n",
    "# Print the percentage\n",
    "df_filtered['first_person'] = df_filtered['body'].apply(detect_first_person)\n",
    "# Compute Percentage\n",
    "pct_first_person = (sum(df_filtered['first_person']) / len(df_filtered)) * 100\n",
    "print(f\"The percentage of first person comments is: {pct_first_person:.2f}%\")\n",
    "\n",
    "\n",
    "# 3. Overall Sentiment Distribution\n",
    "# Apply sentiment analysis to understand the distribution of sentiments\n",
    "#  (positive, negative, neutral) within the comments.\n",
    "\n",
    "df_filtered['sentiment'] = df_filtered['body'].apply(analyze_sentiment)\n",
    "# Output a graph showing the distribution\n",
    "df_filtered['sentiment'].hist()\n",
    "\n"
   ]
  },
  {
   "cell_type": "code",
   "execution_count": 81,
   "id": "9998bcc5-308d-4d72-b126-5560a9898aa0",
   "metadata": {},
   "outputs": [
    {
     "name": "stdout",
     "output_type": "stream",
     "text": [
      "      Word  Frequency\n",
      "0       to     111270\n",
      "1        i     104125\n",
      "2      and     102423\n",
      "3      the     102066\n",
      "4        a      79597\n",
      "5      you      67298\n",
      "6       of      57789\n",
      "7       it      56752\n",
      "8       my      45904\n",
      "9     that      44583\n",
      "10      is      43300\n",
      "11      in      40404\n",
      "12     for      40271\n",
      "13     was      32167\n",
      "14    with      31411\n",
      "15    your      30960\n",
      "16     but      29636\n",
      "17    have      29250\n",
      "18      be      27455\n",
      "19  cancer      25043\n"
     ]
    }
   ],
   "source": [
    "# 4. Top 20 Keywords\n",
    "# Identify the top 20 keywords or phrases that appear in the comments\n",
    "\n",
    "# Aggregate all text from the 'body' column\n",
    "aggregated_text = df_filtered['body'].str.cat(sep=' ')\n",
    "words = nltk.tokenize.word_tokenize(aggregated_text)\n",
    "# Create a frequency distribution of words\n",
    "word_dist = nltk.FreqDist(words)\n",
    "\n",
    "# Get the top 20 keywords with their frequencies\n",
    "res = pd.DataFrame(word_dist.most_common(20),\n",
    "                   columns = ['Word','Frequency'])\n",
    "\n",
    "# Print the top 20 keywords with counts.\n",
    "print(res)"
   ]
  },
  {
   "cell_type": "code",
   "execution_count": 82,
   "id": "8e3aeb5c-caf5-49a4-9f98-8deb837a18c5",
   "metadata": {},
   "outputs": [
    {
     "name": "stdout",
     "output_type": "stream",
     "text": [
      "     Word  Frequency\n",
      "0       i       6890\n",
      "1      my       1809\n",
      "2      im       1651\n",
      "3       ’        987\n",
      "4     hey        676\n",
      "5       m        627\n",
      "6     you        575\n",
      "7      it        552\n",
      "8      hi        543\n",
      "9     the        518\n",
      "10   this        426\n",
      "11     if        381\n",
      "12    its        357\n",
      "13     so        321\n",
      "14  sorry        298\n",
      "15  first        273\n",
      "16    ive        256\n",
      "17   when        243\n",
      "18  there        240\n",
      "19     as        236\n"
     ]
    }
   ],
   "source": [
    "# 5. Most Common Starting Words\n",
    "# Find the 20 most common starting words used in the comments.\n",
    "\n",
    "first_word = df_filtered['body'].apply(lambda x:x.split()[0])\n",
    "#Combine them into a single vector and compute the distribution\n",
    "aggregated_first_word = first_word.str.cat(sep = ' ')\n",
    "words = nltk.tokenize.word_tokenize(aggregated_first_word)\n",
    "word_dist = nltk.FreqDist(words)\n",
    "\n",
    "# Get the 20 most common starting words with their frequencies\n",
    "res = pd.DataFrame(word_dist.most_common(20),\n",
    "                   columns = ['Word','Frequency'])\n",
    "\n",
    "# Print the top 20 starting words with counts\n",
    "print(res)\n"
   ]
  },
  {
   "cell_type": "code",
   "execution_count": 83,
   "id": "65c3f118-83c1-451c-bc5a-87e27435f85d",
   "metadata": {},
   "outputs": [
    {
     "name": "stderr",
     "output_type": "stream",
     "text": [
      "/var/folders/1k/fnmmddrx2wj79wvs4csc884w0000gn/T/ipykernel_47999/3911063619.py:5: SettingWithCopyWarning: \n",
      "A value is trying to be set on a copy of a slice from a DataFrame.\n",
      "Try using .loc[row_indexer,col_indexer] = value instead\n",
      "\n",
      "See the caveats in the documentation: https://pandas.pydata.org/pandas-docs/stable/user_guide/indexing.html#returning-a-view-versus-a-copy\n",
      "  df_filtered['keywords'] = df_filtered['body'].apply(lambda x:\"  \".join(extract_keywords(x)))\n"
     ]
    },
    {
     "name": "stdout",
     "output_type": "stream",
     "text": [
      "         Word  Frequency\n",
      "0      cancer      25043\n",
      "1        time      11703\n",
      "2          im       9498\n",
      "3       chemo       8685\n",
      "4   treatment       8573\n",
      "5        good       8018\n",
      "6      people       7710\n",
      "7        life       6680\n",
      "8        dont       6471\n",
      "9      things       6402\n",
      "10      years       5713\n",
      "11        day       5326\n",
      "12       best       5113\n",
      "13     family       4844\n",
      "14       much       4823\n",
      "15      sorry       4662\n",
      "16  something       4586\n",
      "17        way       4558\n",
      "18     months       4541\n",
      "19      stage       4397\n"
     ]
    }
   ],
   "source": [
    "# 6. Top 20 Words in General\n",
    "# Extract the top 20 most frequently occurring words in the comments,\n",
    "# after removing stop words to focus on more meaningful content.\n",
    "\n",
    "df_filtered['keywords'] = df_filtered['body'].apply(lambda x:\"  \".join(extract_keywords(x)))\n",
    "aggregated_text_filtered = df_filtered['keywords'].str.cat(sep = ' ')\n",
    "words = nltk.tokenize.word_tokenize(aggregated_text_filtered)\n",
    "word_dist = nltk.FreqDist(words)\n",
    "\n",
    "# Get the top 20 most frequently occurring words with their frequencies\n",
    "res = pd.DataFrame(word_dist.most_common(20),\n",
    "                   columns = ['Word','Frequency'])\n",
    "\n",
    "# Print the top 20 keywords with counts.\n",
    "print(res)\n"
   ]
  },
  {
   "cell_type": "code",
   "execution_count": null,
   "id": "ea6a41c6-b079-4144-972b-efc756c59320",
   "metadata": {},
   "outputs": [],
   "source": [
    "# Step 4: Regression Analyses"
   ]
  },
  {
   "cell_type": "code",
   "execution_count": 87,
   "id": "9f9de796-cf3b-41b2-a460-04300865766d",
   "metadata": {},
   "outputs": [
    {
     "name": "stdout",
     "output_type": "stream",
     "text": [
      "                            OLS Regression Results                            \n",
      "==============================================================================\n",
      "Dep. Variable:           num_comments   R-squared:                       0.000\n",
      "Model:                            OLS   Adj. R-squared:                  0.000\n",
      "Method:                 Least Squares   F-statistic:                     3.294\n",
      "Date:                Fri, 14 Jun 2024   Prob (F-statistic):             0.0371\n",
      "Time:                        14:08:48   Log-Likelihood:                -70616.\n",
      "No. Observations:               27477   AIC:                         1.412e+05\n",
      "Df Residuals:                   27474   BIC:                         1.413e+05\n",
      "Df Model:                           2                                         \n",
      "Covariance Type:            nonrobust                                         \n",
      "=========================================================================================\n",
      "                            coef    std err          t      P>|t|      [0.025      0.975]\n",
      "-----------------------------------------------------------------------------------------\n",
      "Intercept                 9.9223      0.040    249.996      0.000       9.845      10.000\n",
      "sentiment[T.neutral]      0.4696      0.216      2.175      0.030       0.046       0.893\n",
      "sentiment[T.positive]     0.0768      0.045      1.695      0.090      -0.012       0.166\n",
      "==============================================================================\n",
      "Omnibus:                      443.943   Durbin-Watson:                   1.986\n",
      "Prob(Omnibus):                  0.000   Jarque-Bera (JB):              465.488\n",
      "Skew:                           0.319   Prob(JB):                    8.33e-102\n",
      "Kurtosis:                       3.028   Cond. No.                         14.6\n",
      "==============================================================================\n",
      "\n",
      "Notes:\n",
      "[1] Standard Errors assume that the covariance matrix of the errors is correctly specified.\n"
     ]
    },
    {
     "data": {
      "text/plain": [
       "array([[<Axes: title={'center': 'negative'}>,\n",
       "        <Axes: title={'center': 'neutral'}>],\n",
       "       [<Axes: title={'center': 'positive'}>, <Axes: >]], dtype=object)"
      ]
     },
     "execution_count": 87,
     "metadata": {},
     "output_type": "execute_result"
    },
    {
     "data": {
      "image/png": "[encoded data removed]",
      "text/plain": [
       "<Figure size 640x480 with 1 Axes>"
      ]
     },
     "metadata": {},
     "output_type": "display_data"
    },
    {
     "data": {
      "image/png": "[encoded data removed]",
      "text/plain": [
       "<Figure size 640x480 with 4 Axes>"
      ]
     },
     "metadata": {},
     "output_type": "display_data"
    }
   ],
   "source": [
    "# 1. Does the sentiment of a post correlate with user engagement (as measured by num_comments)?\n",
    "\n",
    "import statsmodels.api as sm\n",
    "from statsmodels.formula.api import ols\n",
    "model_sentiment = ols ('num_comments ~ sentiment', data=df_filtered).fit()\n",
    "print(model_sentiment.summary())\n",
    "\n",
    "# The sentiment of a post is correlate with user engagement.\n",
    "#Posts with a positive sentiment tend to receive approximately 0.08 more comments\n",
    "#relative to those with a negative sentiment (statistically significant in 0.05 level).\n",
    "\n",
    "#Posts with a netural sentiment tend to receive approximately 0.47 more comments\n",
    "#relative to those with a negative sentiment (statistically significant in 0.1 level).\n",
    "\n",
    "import seaborn as sns\n",
    "import matplotlib.pyplot as plt\n",
    "\n",
    "pos_df = df_filtered[df_filtered['sentiment'] == 'positive']['num_comments']\n",
    "neg_df = df_filtered[df_filtered['sentiment'] == 'negative']['num_comments']\n",
    "neu_df = df_filtered[df_filtered['sentiment'] == 'neutral']['num_comments']\n",
    "\n",
    "# histogram overlay\n",
    "fig = plt.figure()\n",
    "ax = fig.add_subplot(111)\n",
    "bin_width = 0.5\n",
    "ax.hist(pos_df, ls='dashed', alpha = 0.5, lw=3, color= 'b',\n",
    "        density = True, bins=np.arange(1, max(pos_df) +  bin_width, bin_width))\n",
    "ax.hist(neg_df, ls='dotted', alpha = 0.4, lw=3, color= 'r',\n",
    "        density = True, bins=np.arange(1, max(neg_df) +  bin_width, bin_width))\n",
    "ax.hist(neu_df, alpha = 0.2, lw=3, color= 'g', density = True,\n",
    "        bins=np.arange(1, max(neu_df) +  bin_width, bin_width))\n",
    "ax.legend(['positive', 'negative', 'neutral'])\n",
    "plt.title(\"Distribution of number of comments by sentiment type\")\n",
    "\n",
    "# separate histograms for each group\n",
    "df_filtered['num_comments'].hist(by = df_filtered['sentiment'],\n",
    "                                 density = True,\n",
    "                                 bins=np.arange(1, max(df_filtered['num_comments']) + bin_width, bin_width))\n"
   ]
  },
  {
   "cell_type": "code",
   "execution_count": 85,
   "id": "7796d881-8ede-406e-a6c2-1781e301339b",
   "metadata": {},
   "outputs": [
    {
     "name": "stdout",
     "output_type": "stream",
     "text": [
      "                            OLS Regression Results                            \n",
      "==============================================================================\n",
      "Dep. Variable:           num_comments   R-squared:                       0.000\n",
      "Model:                            OLS   Adj. R-squared:                  0.000\n",
      "Method:                 Least Squares   F-statistic:                     1.571\n",
      "Date:                Fri, 14 Jun 2024   Prob (F-statistic):              0.210\n",
      "Time:                        14:07:41   Log-Likelihood:                -70619.\n",
      "No. Observations:               27477   AIC:                         1.412e+05\n",
      "Df Residuals:                   27475   BIC:                         1.413e+05\n",
      "Df Model:                           1                                         \n",
      "Covariance Type:            nonrobust                                         \n",
      "========================================================================================\n",
      "                           coef    std err          t      P>|t|      [0.025      0.975]\n",
      "----------------------------------------------------------------------------------------\n",
      "Intercept               10.0551      0.059    169.198      0.000       9.939      10.172\n",
      "first_person[T.True]    -0.0786      0.063     -1.253      0.210      -0.202       0.044\n",
      "==============================================================================\n",
      "Omnibus:                      443.507   Durbin-Watson:                   1.986\n",
      "Prob(Omnibus):                  0.000   Jarque-Bera (JB):              465.008\n",
      "Skew:                           0.318   Prob(JB):                    1.06e-101\n",
      "Kurtosis:                       3.028   Cond. No.                         6.08\n",
      "==============================================================================\n",
      "\n",
      "Notes:\n",
      "[1] Standard Errors assume that the covariance matrix of the errors is correctly specified.\n"
     ]
    }
   ],
   "source": [
    "# 2. Do posts written in the first person receive more engagement (as measured by num_comments)\n",
    "# compared to other posts. Please use a boolean variable indicating first-person narratives.\n",
    "\n",
    "model_first_person = ols ('num_comments ~ first_person', data=df_filtered).fit()\n",
    "print(model_first_person.summary())\n",
    "\n",
    "# Posts written in the first person receive are not more engagement compared to other\n",
    "#posts, since the correlation estimates is not statistically significant."
   ]
  },
  {
   "cell_type": "code",
   "execution_count": 88,
   "id": "a847082b-547b-4095-838f-497602665672",
   "metadata": {},
   "outputs": [
    {
     "name": "stdout",
     "output_type": "stream",
     "text": [
      "                            OLS Regression Results                            \n",
      "==============================================================================\n",
      "Dep. Variable:           num_comments   R-squared:                       0.000\n",
      "Model:                            OLS   Adj. R-squared:                 -0.000\n",
      "Method:                 Least Squares   F-statistic:                    0.9158\n",
      "Date:                Fri, 14 Jun 2024   Prob (F-statistic):              0.432\n",
      "Time:                        14:09:01   Log-Likelihood:                -70618.\n",
      "No. Observations:               27477   AIC:                         1.412e+05\n",
      "Df Residuals:                   27473   BIC:                         1.413e+05\n",
      "Df Model:                           3                                         \n",
      "Covariance Type:            nonrobust                                         \n",
      "=========================================================================================\n",
      "                            coef    std err          t      P>|t|      [0.025      0.975]\n",
      "-----------------------------------------------------------------------------------------\n",
      "Intercept                 9.9371      0.041    242.390      0.000       9.857      10.017\n",
      "time_slot[T.Midnight]     0.0501      0.051      0.984      0.325      -0.050       0.150\n",
      "time_slot[T.Morning]      0.0432      0.060      0.716      0.474      -0.075       0.162\n",
      "time_slot[T.Night]        0.0981      0.059      1.652      0.098      -0.018       0.214\n",
      "==============================================================================\n",
      "Omnibus:                      442.995   Durbin-Watson:                   1.986\n",
      "Prob(Omnibus):                  0.000   Jarque-Bera (JB):              464.452\n",
      "Skew:                           0.318   Prob(JB):                    1.40e-101\n",
      "Kurtosis:                       3.027   Cond. No.                         5.25\n",
      "==============================================================================\n",
      "\n",
      "Notes:\n",
      "[1] Standard Errors assume that the covariance matrix of the errors is correctly specified.\n"
     ]
    },
    {
     "name": "stderr",
     "output_type": "stream",
     "text": [
      "/var/folders/1k/fnmmddrx2wj79wvs4csc884w0000gn/T/ipykernel_47999/494372328.py:5: SettingWithCopyWarning: \n",
      "A value is trying to be set on a copy of a slice from a DataFrame.\n",
      "Try using .loc[row_indexer,col_indexer] = value instead\n",
      "\n",
      "See the caveats in the documentation: https://pandas.pydata.org/pandas-docs/stable/user_guide/indexing.html#returning-a-view-versus-a-copy\n",
      "  df_filtered['time'] = pd.to_datetime(df_filtered['created_utc'], unit='s')\n",
      "/var/folders/1k/fnmmddrx2wj79wvs4csc884w0000gn/T/ipykernel_47999/494372328.py:6: SettingWithCopyWarning: \n",
      "A value is trying to be set on a copy of a slice from a DataFrame.\n",
      "Try using .loc[row_indexer,col_indexer] = value instead\n",
      "\n",
      "See the caveats in the documentation: https://pandas.pydata.org/pandas-docs/stable/user_guide/indexing.html#returning-a-view-versus-a-copy\n",
      "  df_filtered['hour'] = df_filtered['time'].dt.hour\n",
      "/var/folders/1k/fnmmddrx2wj79wvs4csc884w0000gn/T/ipykernel_47999/494372328.py:18: SettingWithCopyWarning: \n",
      "A value is trying to be set on a copy of a slice from a DataFrame.\n",
      "Try using .loc[row_indexer,col_indexer] = value instead\n",
      "\n",
      "See the caveats in the documentation: https://pandas.pydata.org/pandas-docs/stable/user_guide/indexing.html#returning-a-view-versus-a-copy\n",
      "  df_filtered['time_slot'] = df_filtered['hour'].apply(categorize_time).astype('category')\n",
      "/var/folders/1k/fnmmddrx2wj79wvs4csc884w0000gn/T/ipykernel_47999/494372328.py:29: FutureWarning: The default of observed=False is deprecated and will be changed to True in a future version of pandas. Pass observed=False to retain current behavior or observed=True to adopt the future default and silence this warning.\n",
      "  time_slot_avg_comments = df_filtered.groupby('time_slot')['num_comments'].mean()\n"
     ]
    },
    {
     "data": {
      "image/png": "[encoded data removed]",
      "text/plain": [
       "<Figure size 800x600 with 1 Axes>"
      ]
     },
     "metadata": {},
     "output_type": "display_data"
    }
   ],
   "source": [
    "# 3. Does the time of day that a post is posted (using created_utc) influence the engagement as\n",
    "# measured by num_comments) with the post. \n",
    "\n",
    "# Convert timestamp to datetime format\n",
    "df_filtered['time'] = pd.to_datetime(df_filtered['created_utc'], unit='s')\n",
    "df_filtered['hour'] = df_filtered['time'].dt.hour\n",
    "# Define function to categorize hours into time slots\n",
    "def categorize_time(hour):\n",
    "    if 5 <= hour < 12:\n",
    "        return 'Morning'\n",
    "    elif 12 <= hour < 17:\n",
    "        return 'Afternoon'\n",
    "    elif 17 <= hour < 21:\n",
    "        return 'Night'\n",
    "    else:\n",
    "        return 'Midnight'\n",
    "\n",
    "df_filtered['time_slot'] = df_filtered['hour'].apply(categorize_time).astype('category')\n",
    "\n",
    "model_time = ols ('num_comments ~ time_slot', data=df_filtered).fit()\n",
    "print(model_time.summary())\n",
    "\n",
    "# The time of day that a post is posted influence the engagement.\n",
    "#Posts posted at night (17:00-21:00) tend to receive approximately 0.10 more\n",
    "#comments relative to posts posted in the afternoon (statistically significant in 0.1 level).\n",
    "#However, posts posted in other time slots (morning. midnight) do not influence the engagement, since\n",
    "#the coefficients are not statistically significant.\n",
    "\n",
    "time_slot_avg_comments = df_filtered.groupby('time_slot')['num_comments'].mean()\n",
    "\n",
    "# Convert the series to a DataFrame\n",
    "df_avg_comments = time_slot_avg_comments.reset_index(name='avg_comments')\n",
    "\n",
    "# Create a bar chart\n",
    "plt.figure(figsize=(8, 6))\n",
    "plt.bar(df_avg_comments['time_slot'], df_avg_comments['avg_comments'], color='skyblue')\n",
    "plt.title('Average Number of Comments by Time Slot')\n",
    "plt.xlabel('Time Slot')\n",
    "plt.ylabel('Average Number of Comments')\n",
    "plt.xticks(rotation=45)  # Rotate x-axis labels for better readability\n",
    "plt.tight_layout()  # Adjust layout to prevent label overlap\n",
    "plt.show()"
   ]
  },
  {
   "cell_type": "code",
   "execution_count": null,
   "id": "7bf2c1de-e884-4a8d-a110-60acb62bc6b1",
   "metadata": {},
   "outputs": [],
   "source": [
    "# Step 5. Inference"
   ]
  },
  {
   "cell_type": "code",
   "execution_count": 89,
   "id": "5980f23e-a926-444f-9aa2-4535c6a3aed8",
   "metadata": {},
   "outputs": [
    {
     "name": "stdout",
     "output_type": "stream",
     "text": [
      "                            OLS Regression Results                            \n",
      "==============================================================================\n",
      "Dep. Variable:            length_text   R-squared:                       0.000\n",
      "Model:                            OLS   Adj. R-squared:                 -0.000\n",
      "Method:                 Least Squares   F-statistic:                    0.3368\n",
      "Date:                Fri, 14 Jun 2024   Prob (F-statistic):              0.562\n",
      "Time:                        14:09:51   Log-Likelihood:            -2.1020e+05\n",
      "No. Observations:               27477   AIC:                         4.204e+05\n",
      "Df Residuals:                   27475   BIC:                         4.204e+05\n",
      "Df Model:                           1                                         \n",
      "Covariance Type:            nonrobust                                         \n",
      "===================================================================================\n",
      "                      coef    std err          t      P>|t|      [0.025      0.975]\n",
      "-----------------------------------------------------------------------------------\n",
      "Intercept         681.6004      4.329    157.461      0.000     673.116     690.085\n",
      "treated[T.True]    -3.5593      6.133     -0.580      0.562     -15.581       8.463\n",
      "==============================================================================\n",
      "Omnibus:                    20787.558   Durbin-Watson:                   1.815\n",
      "Prob(Omnibus):                  0.000   Jarque-Bera (JB):           576215.509\n",
      "Skew:                           3.402   Prob(JB):                         0.00\n",
      "Kurtosis:                      24.378   Cond. No.                         2.61\n",
      "==============================================================================\n",
      "\n",
      "Notes:\n",
      "[1] Standard Errors assume that the covariance matrix of the errors is correctly specified.\n"
     ]
    },
    {
     "name": "stderr",
     "output_type": "stream",
     "text": [
      "/var/folders/1k/fnmmddrx2wj79wvs4csc884w0000gn/T/ipykernel_47999/3247587166.py:4: SettingWithCopyWarning: \n",
      "A value is trying to be set on a copy of a slice from a DataFrame.\n",
      "Try using .loc[row_indexer,col_indexer] = value instead\n",
      "\n",
      "See the caveats in the documentation: https://pandas.pydata.org/pandas-docs/stable/user_guide/indexing.html#returning-a-view-versus-a-copy\n",
      "  df_filtered['treated'] = df_filtered['created_utc'].astype(str).str[-1].astype(int) < 5\n",
      "/var/folders/1k/fnmmddrx2wj79wvs4csc884w0000gn/T/ipykernel_47999/3247587166.py:5: SettingWithCopyWarning: \n",
      "A value is trying to be set on a copy of a slice from a DataFrame.\n",
      "Try using .loc[row_indexer,col_indexer] = value instead\n",
      "\n",
      "See the caveats in the documentation: https://pandas.pydata.org/pandas-docs/stable/user_guide/indexing.html#returning-a-view-versus-a-copy\n",
      "  df_filtered['time'] = pd.to_datetime(df_filtered['created_utc'], unit='s')\n",
      "/var/folders/1k/fnmmddrx2wj79wvs4csc884w0000gn/T/ipykernel_47999/3247587166.py:6: SettingWithCopyWarning: \n",
      "A value is trying to be set on a copy of a slice from a DataFrame.\n",
      "Try using .loc[row_indexer,col_indexer] = value instead\n",
      "\n",
      "See the caveats in the documentation: https://pandas.pydata.org/pandas-docs/stable/user_guide/indexing.html#returning-a-view-versus-a-copy\n",
      "  df_filtered['hour'] = df_filtered['time'].apply(lambda x:x.hour).astype('category')\n",
      "/var/folders/1k/fnmmddrx2wj79wvs4csc884w0000gn/T/ipykernel_47999/3247587166.py:12: SettingWithCopyWarning: \n",
      "A value is trying to be set on a copy of a slice from a DataFrame.\n",
      "Try using .loc[row_indexer,col_indexer] = value instead\n",
      "\n",
      "See the caveats in the documentation: https://pandas.pydata.org/pandas-docs/stable/user_guide/indexing.html#returning-a-view-versus-a-copy\n",
      "  df_filtered['length_text'] = df_filtered['body'].apply(len)\n"
     ]
    }
   ],
   "source": [
    "# 1. Create a random variable indicating treatment status. A post can be considered treated if the\n",
    "# final digit of the timestamp is less than 5.\n",
    "\n",
    "df_filtered['treated'] = df_filtered['created_utc'].astype(str).str[-1].astype(int) < 5\n",
    "df_filtered['time'] = pd.to_datetime(df_filtered['created_utc'], unit='s')\n",
    "df_filtered['hour'] = df_filtered['time'].apply(lambda x:x.hour).astype('category')\n",
    "\n",
    "\n",
    "# 2. Run the appropriate regression to determine if being assigned to this imaginary treatment impacted\n",
    "# the length of a post.\n",
    "\n",
    "df_filtered['length_text'] = df_filtered['body'].apply(len)\n",
    "model_treated = ols ('length_text ~ treated', data=df_filtered).fit()\n",
    "print(model_treated.summary())\n",
    "\n",
    "# Being assigned to the imaginary treatment does not impact the length of a post,\n",
    "# since the correlation estimates is not statistically significant.\n"
   ]
  },
  {
   "cell_type": "code",
   "execution_count": 90,
   "id": "d92df0dd-69d0-4c4f-b40c-841bd6ffa117",
   "metadata": {},
   "outputs": [
    {
     "name": "stdout",
     "output_type": "stream",
     "text": [
      "                            OLS Regression Results                            \n",
      "==============================================================================\n",
      "Dep. Variable:           first_person   R-squared:                       0.000\n",
      "Model:                            OLS   Adj. R-squared:                 -0.000\n",
      "Method:                 Least Squares   F-statistic:                    0.2699\n",
      "Date:                Fri, 14 Jun 2024   Prob (F-statistic):              0.603\n",
      "Time:                        14:10:15   Log-Likelihood:                -6270.4\n",
      "No. Observations:               27477   AIC:                         1.254e+04\n",
      "Df Residuals:                   27475   BIC:                         1.256e+04\n",
      "Df Model:                           1                                         \n",
      "Covariance Type:            nonrobust                                         \n",
      "===================================================================================\n",
      "                      coef    std err          t      P>|t|      [0.025      0.975]\n",
      "-----------------------------------------------------------------------------------\n",
      "Intercept           0.8960      0.003    346.121      0.000       0.891       0.901\n",
      "treated[T.True]     0.0019      0.004      0.520      0.603      -0.005       0.009\n",
      "==============================================================================\n",
      "Omnibus:                    13723.893   Durbin-Watson:                   1.841\n",
      "Prob(Omnibus):                  0.000   Jarque-Bera (JB):            57838.166\n",
      "Skew:                          -2.612   Prob(JB):                         0.00\n",
      "Kurtosis:                       7.821   Cond. No.                         2.61\n",
      "==============================================================================\n",
      "\n",
      "Notes:\n",
      "[1] Standard Errors assume that the covariance matrix of the errors is correctly specified.\n"
     ]
    },
    {
     "name": "stderr",
     "output_type": "stream",
     "text": [
      "/var/folders/1k/fnmmddrx2wj79wvs4csc884w0000gn/T/ipykernel_47999/2220020738.py:4: SettingWithCopyWarning: \n",
      "A value is trying to be set on a copy of a slice from a DataFrame.\n",
      "Try using .loc[row_indexer,col_indexer] = value instead\n",
      "\n",
      "See the caveats in the documentation: https://pandas.pydata.org/pandas-docs/stable/user_guide/indexing.html#returning-a-view-versus-a-copy\n",
      "  df_filtered['first_person'] = df_filtered['body'].apply(detect_first_person).astype(int)\n"
     ]
    }
   ],
   "source": [
    "# 3. Run the appropriate regression to determine if being assigned to this imaginary treatment impacted\n",
    "# the likelihood that the post is a first person narrative.\n",
    "\n",
    "df_filtered['first_person'] = df_filtered['body'].apply(detect_first_person).astype(int)\n",
    "model_treatment = ols ('first_person ~ treated', data=df_filtered).fit()\n",
    "print(model_treatment.summary())\n",
    "\n",
    "# Being assigned to the imaginary treatment does not impact the likelihood that the post\n",
    "#is a first person narrative, since the correlation estimates is not statistically significant.\n"
   ]
  }
 ],
 "metadata": {
  "kernelspec": {
   "display_name": "Python 3 (ipykernel)",
   "language": "python",
   "name": "python3"
  },
  "language_info": {
   "codemirror_mode": {
    "name": "ipython",
    "version": 3
   },
   "file_extension": ".py",
   "mimetype": "text/x-python",
   "name": "python",
   "nbconvert_exporter": "python",
   "pygments_lexer": "ipython3",
   "version": "3.11.7"
  }
 },
 "nbformat": 4,
 "nbformat_minor": 5
}
